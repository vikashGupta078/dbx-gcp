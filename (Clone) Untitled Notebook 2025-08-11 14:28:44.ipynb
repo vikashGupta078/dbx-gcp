{
 "cells": [
  {
   "cell_type": "code",
   "execution_count": 0,
   "metadata": {
    "application/vnd.databricks.v1+cell": {
     "cellMetadata": {
      "byteLimit": 2048000,
      "rowLimit": 10000
     },
     "inputWidgets": {},
     "nuid": "871ca4a6-bcde-4bd5-a1f2-0a6d43b4a861",
     "showTitle": false,
     "tableResultSettingsMap": {},
     "title": ""
    }
   },
   "outputs": [],
   "source": [
    "import json# Mount\n",
    "\n",
    "# Set up the configurations for mounting the GCS bucket\n",
    "gcs_bucket_name = \"bucket1mart\"\n",
    "mount_point = \"/mnt/mskltestmnt728\"\n",
    "project_id = \"mentorsko-1723044079759\"\n",
    "service_account_key = \"/dbfs/FileStore/tables/mentorsko_1723044081443_e08bd1f42ed3.json\"\n",
    "\n",
    "# Read the service account key file\n",
    "with open(service_account_key, 'r') as key_file:\n",
    "    service_account_info = json.load(key_file)\n",
    "\n",
    "# Define the GCS service account credentials\n",
    "config = {\n",
    "    \"fs.gs.impl\": \"com.google.cloud.hadoop.fs.gcs.GoogleHadoopFileSystem\",\n",
    "    \"fs.gs.auth.service.account.enable\": \"true\",\n",
    "    \"fs.gs.auth.service.account.email\": service_account_info[\"client_email\"],\n",
    "    \"fs.gs.auth.service.account.private.key.id\": service_account_info[\"private_key_id\"],\n",
    "    \"fs.gs.auth.service.account.private.key\": service_account_info[\"private_key\"],\n",
    "    \"fs.gs.project.id\": project_id\n",
    "}\n",
    "\n",
    "\n",
    "# Mount the GCS bucket\n",
    "dbutils.fs.mount(\n",
    "    source=f\"gs://{gcs_bucket_name}\",\n",
    "    mount_point=mount_point,\n",
    "    extra_configs=config\n",
    ")"
   ]
  },
  {
   "cell_type": "code",
   "execution_count": 0,
   "metadata": {
    "application/vnd.databricks.v1+cell": {
     "cellMetadata": {
      "byteLimit": 2048000,
      "rowLimit": 10000
     },
     "inputWidgets": {},
     "nuid": "02d208aa-56dc-4b87-8be3-a9a17ead53d9",
     "showTitle": false,
     "tableResultSettingsMap": {},
     "title": ""
    }
   },
   "outputs": [],
   "source": [
    "files = dbutils.fs.ls(\"/mnt/mskltestmnt785\")\n",
    "display(files)"
   ]
  },
  {
   "cell_type": "code",
   "execution_count": 0,
   "metadata": {
    "application/vnd.databricks.v1+cell": {
     "cellMetadata": {
      "byteLimit": 2048000,
      "rowLimit": 10000
     },
     "inputWidgets": {},
     "nuid": "c90feb95-0467-4fe2-9a7b-e5e15bf1d20d",
     "showTitle": false,
     "tableResultSettingsMap": {},
     "title": ""
    }
   },
   "outputs": [],
   "source": [
    "orders_df = spark.read.csv(\"dbfs:/mnt/mskltestmnt785/orders.csv\", header = True, inferSchema=True)\n",
    "display(orders_df)"
   ]
  },
  {
   "cell_type": "code",
   "execution_count": 0,
   "metadata": {
    "application/vnd.databricks.v1+cell": {
     "cellMetadata": {
      "byteLimit": 2048000,
      "rowLimit": 10000
     },
     "inputWidgets": {},
     "nuid": "a921c72f-7422-4cc3-ab84-388877676bd8",
     "showTitle": false,
     "tableResultSettingsMap": {},
     "title": ""
    }
   },
   "outputs": [],
   "source": [
    "payment_df = spark.read.csv(\"dbfs:/mnt/mskltestmnt785/payments.csv\", header = True, inferSchema=True)\n",
    "display(payment_df)\n",
    "payment_methods_df = spark.read.csv(\"dbfs:/mnt/mskltestmnt785/payment_methods.csv\", header = True, inferSchema=True)\n",
    "display(payment_methods_df)"
   ]
  },
  {
   "cell_type": "code",
   "execution_count": 0,
   "metadata": {
    "application/vnd.databricks.v1+cell": {
     "cellMetadata": {
      "byteLimit": 2048000,
      "rowLimit": 10000
     },
     "inputWidgets": {},
     "nuid": "2d084d7f-2cd9-480b-bf5b-7c9b42f7f2b3",
     "showTitle": false,
     "tableResultSettingsMap": {},
     "title": ""
    }
   },
   "outputs": [],
   "source": [
    "from pyspark.sql.functions import col\n",
    "\n",
    "payment_method_preference = {\n",
    "    payment_df\n",
    "        .join(payment_methods_df, on = 'PaymentMethodID')\n",
    "        .groupBy('MethodName')\n",
    "        .count()\n",
    "        .orderBy(col('count').desc())\n",
    "}\n",
    "\n",
    "payment_method_preference.display()"
   ]
  },
  {
   "cell_type": "code",
   "execution_count": 0,
   "metadata": {
    "application/vnd.databricks.v1+cell": {
     "cellMetadata": {
      "byteLimit": 2048000,
      "rowLimit": 10000
     },
     "inputWidgets": {},
     "nuid": "ae65f779-e2ea-4f6a-9489-af0287063d76",
     "showTitle": false,
     "tableResultSettingsMap": {},
     "title": ""
    }
   },
   "outputs": [],
   "source": [
    "orders_df.createOrReplaceTempView(\"orders\")"
   ]
  },
  {
   "cell_type": "code",
   "execution_count": 0,
   "metadata": {
    "application/vnd.databricks.v1+cell": {
     "cellMetadata": {
      "byteLimit": 2048000,
      "implicitDf": true,
      "rowLimit": 10000
     },
     "inputWidgets": {},
     "nuid": "8c9d6652-7839-439e-a1fd-85c55c1671f4",
     "showTitle": false,
     "tableResultSettingsMap": {},
     "title": ""
    }
   },
   "outputs": [],
   "source": [
    "%sql\n",
    "select\n",
    "    ProductID,\n",
    "    sum(Quantity) as TotalQuantitySold\n",
    "from\n",
    "  order_items\n",
    "GROUP BY ProductID\n",
    "ORDER BY TotalQuantitySold DESC\n",
    ";\n",
    " "
   ]
  },
  {
   "cell_type": "code",
   "execution_count": 0,
   "metadata": {
    "application/vnd.databricks.v1+cell": {
     "cellMetadata": {
      "byteLimit": 2048000,
      "rowLimit": 10000
     },
     "inputWidgets": {},
     "nuid": "5940112a-4e21-40d6-8da9-8bee06bbe320",
     "showTitle": false,
     "tableResultSettingsMap": {},
     "title": ""
    }
   },
   "outputs": [],
   "source": [
    "orders_df.createOrReplaceGlobalTempView(\"orders\")\n",
    "payment_df.createOrReplaceTempView(\"payments\")\n",
    "payment_df.createOrReplaceGlobalTempView(\"payments\")"
   ]
  },
  {
   "cell_type": "code",
   "execution_count": 0,
   "metadata": {
    "application/vnd.databricks.v1+cell": {
     "cellMetadata": {
      "byteLimit": 2048000,
      "implicitDf": true,
      "rowLimit": 10000
     },
     "inputWidgets": {},
     "nuid": "15ccbddd-ad45-4cb6-8c27-8fd229d607f7",
     "showTitle": false,
     "tableResultSettingsMap": {},
     "title": ""
    }
   },
   "outputs": [],
   "source": [
    "%sql\n",
    "select\n",
    "    o.OrderChannel,\n",
    "    p.PaymentMethodID,\n",
    "    count(o.OrderID) as NumberOfOrders\n",
    "from\n",
    "  global_temp.orders o\n",
    "join\n",
    "  global_temp.payments p on o.OrderID = p.OrderID\n",
    "GROUP BY o.OrderChannel, p.PaymentMethodID\n",
    "ORDER BY NumberOfOrders DESC"
   ]
  },
  {
   "cell_type": "code",
   "execution_count": 0,
   "metadata": {
    "application/vnd.databricks.v1+cell": {
     "cellMetadata": {
      "byteLimit": 2048000,
      "implicitDf": true,
      "rowLimit": 10000
     },
     "inputWidgets": {},
     "nuid": "2f81d5cd-91b6-4274-8c8b-b0a8dc8ea304",
     "showTitle": false,
     "tableResultSettingsMap": {},
     "title": ""
    }
   },
   "outputs": [],
   "source": [
    "\n",
    "from pyspark.sql.functions import *"
   ]
  },
  {
   "cell_type": "code",
   "execution_count": 0,
   "metadata": {
    "application/vnd.databricks.v1+cell": {
     "cellMetadata": {
      "byteLimit": 2048000,
      "rowLimit": 10000
     },
     "inputWidgets": {},
     "nuid": "6fc51045-2779-43f3-9fd7-f86061369dae",
     "showTitle": false,
     "tableResultSettingsMap": {},
     "title": ""
    }
   },
   "outputs": [],
   "source": [
    "from pyspark.sql.functions import *\n",
    "\n",
    "# Your Python code here (if any)\n",
    "\n",
    "# Use %sql for SQL queries\n",
    "%sql\n",
    "SELECT c.*, o.*, ot.*, p.*\n",
    "FROM customers c\n",
    "JOIN orders o ON c.CustomerID = o.CustomerID\n",
    "JOIN order_items ot ON o.OrderID = ot.OrderID\n",
    "JOIN product p ON o.ProductID = p.ProductID"
   ]
  },
  {
   "cell_type": "code",
   "execution_count": 0,
   "metadata": {
    "application/vnd.databricks.v1+cell": {
     "cellMetadata": {},
     "inputWidgets": {},
     "nuid": "3a48f876-6106-4f44-a411-1a04ca9a7cec",
     "showTitle": false,
     "tableResultSettingsMap": {},
     "title": ""
    }
   },
   "outputs": [],
   "source": []
  }
 ],
 "metadata": {
  "application/vnd.databricks.v1+notebook": {
   "computePreferences": null,
   "dashboards": [],
   "environmentMetadata": {
    "base_environment": "",
    "environment_version": "2"
   },
   "inputWidgetPreferences": null,
   "language": "python",
   "notebookMetadata": {
    "mostRecentlyExecutedCommandWithImplicitDF": {
     "commandId": -1,
     "dataframes": [
      "_sqldf"
     ]
    },
    "pythonIndentUnit": 4
   },
   "notebookName": "(Clone) Untitled Notebook 2025-08-11 14:28:44",
   "widgets": {}
  },
  "language_info": {
   "name": "python"
  }
 },
 "nbformat": 4,
 "nbformat_minor": 0
}
